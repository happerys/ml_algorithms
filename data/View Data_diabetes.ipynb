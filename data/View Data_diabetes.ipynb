{
 "cells": [
  {
   "cell_type": "code",
   "execution_count": 3,
   "metadata": {
    "collapsed": true
   },
   "outputs": [],
   "source": [
    "import os\n",
    "import csv\n",
    "import sys\n",
    "import shutil\n",
    "from collections import namedtuple\n",
    "from os import environ, listdir, makedirs\n",
    "from os.path import dirname, exists, expanduser, isdir, join, splitext\n",
    "import hashlib\n",
    "\n",
    "def load_diabetes(return_X_y=False):\n",
    "    \"\"\"Load and return the diabetes dataset (regression).\n",
    "\n",
    "    ==============      ==================\n",
    "    Samples total       442\n",
    "    Dimensionality      10\n",
    "    Features            real, -.2 < x < .2\n",
    "    Targets             integer 25 - 346\n",
    "    ==============      ==================\n",
    "\n",
    "    Read more in the :ref:`User Guide <datasets>`.\n",
    "\n",
    "    Parameters\n",
    "    ----------\n",
    "    return_X_y : boolean, default=False.\n",
    "        If True, returns ``(data, target)`` instead of a Bunch object.\n",
    "        See below for more information about the `data` and `target` object.\n",
    "\n",
    "        .. versionadded:: 0.18\n",
    "\n",
    "    Returns\n",
    "    -------\n",
    "    data : Bunch\n",
    "        Dictionary-like object, the interesting attributes are:\n",
    "        'data', the data to learn, 'target', the regression target for each\n",
    "        sample, 'data_filename', the physical location\n",
    "        of diabetes data csv dataset, and 'target_filename', the physical\n",
    "        location of diabetes targets csv datataset (added in version `0.20`).\n",
    "\n",
    "    (data, target) : tuple if ``return_X_y`` is True\n",
    "\n",
    "        .. versionadded:: 0.18\n",
    "    \"\"\"\n",
    "    module_path = dirname(__file__)\n",
    "    base_dir = join(module_path, 'data')\n",
    "    data_filename = join(base_dir, 'diabetes_data.csv.gz')\n",
    "    data = np.loadtxt(data_filename)\n",
    "    target_filename = join(base_dir, 'diabetes_target.csv.gz')\n",
    "    target = np.loadtxt(target_filename)\n",
    "\n",
    "    with open(join(module_path, 'descr', 'diabetes.rst')) as rst_file:\n",
    "        fdescr = rst_file.read()\n",
    "\n",
    "    if return_X_y:\n",
    "        return data, target\n",
    "\n",
    "    return Bunch(data=data, target=target, DESCR=fdescr,\n",
    "                 feature_names=['age', 'sex', 'bmi', 'bp',\n",
    "                                's1', 's2', 's3', 's4', 's5', 's6'],\n",
    "                 data_filename=data_filename,\n",
    "                 target_filename=target_filename)"
   ]
  },
  {
   "cell_type": "code",
   "execution_count": 4,
   "metadata": {},
   "outputs": [
    {
     "ename": "NameError",
     "evalue": "global name '__file__' is not defined",
     "output_type": "error",
     "traceback": [
      "\u001b[0;31m---------------------------------------------------------------------------\u001b[0m",
      "\u001b[0;31mNameError\u001b[0m                                 Traceback (most recent call last)",
      "\u001b[0;32m<ipython-input-4-38161b7d42fe>\u001b[0m in \u001b[0;36m<module>\u001b[0;34m()\u001b[0m\n\u001b[0;32m----> 1\u001b[0;31m \u001b[0mload_diabetes\u001b[0m\u001b[0;34m(\u001b[0m\u001b[0;34m)\u001b[0m\u001b[0;34m\u001b[0m\u001b[0m\n\u001b[0m",
      "\u001b[0;32m<ipython-input-3-4756a97964e2>\u001b[0m in \u001b[0;36mload_diabetes\u001b[0;34m(return_X_y)\u001b[0m\n\u001b[1;32m     41\u001b[0m         \u001b[0;34m.\u001b[0m\u001b[0;34m.\u001b[0m \u001b[0mversionadded\u001b[0m\u001b[0;34m:\u001b[0m\u001b[0;34m:\u001b[0m \u001b[0;36m0.18\u001b[0m\u001b[0;34m\u001b[0m\u001b[0m\n\u001b[1;32m     42\u001b[0m     \"\"\"\n\u001b[0;32m---> 43\u001b[0;31m     \u001b[0mmodule_path\u001b[0m \u001b[0;34m=\u001b[0m \u001b[0mdirname\u001b[0m\u001b[0;34m(\u001b[0m\u001b[0m__file__\u001b[0m\u001b[0;34m)\u001b[0m\u001b[0;34m\u001b[0m\u001b[0m\n\u001b[0m\u001b[1;32m     44\u001b[0m     \u001b[0mbase_dir\u001b[0m \u001b[0;34m=\u001b[0m \u001b[0mjoin\u001b[0m\u001b[0;34m(\u001b[0m\u001b[0mmodule_path\u001b[0m\u001b[0;34m,\u001b[0m \u001b[0;34m'data'\u001b[0m\u001b[0;34m)\u001b[0m\u001b[0;34m\u001b[0m\u001b[0m\n\u001b[1;32m     45\u001b[0m     \u001b[0mdata_filename\u001b[0m \u001b[0;34m=\u001b[0m \u001b[0mjoin\u001b[0m\u001b[0;34m(\u001b[0m\u001b[0mbase_dir\u001b[0m\u001b[0;34m,\u001b[0m \u001b[0;34m'diabetes_data.csv.gz'\u001b[0m\u001b[0;34m)\u001b[0m\u001b[0;34m\u001b[0m\u001b[0m\n",
      "\u001b[0;31mNameError\u001b[0m: global name '__file__' is not defined"
     ]
    }
   ],
   "source": [
    "load_diabetes()"
   ]
  },
  {
   "cell_type": "code",
   "execution_count": null,
   "metadata": {
    "collapsed": true
   },
   "outputs": [],
   "source": []
  }
 ],
 "metadata": {
  "kernelspec": {
   "display_name": "Python 2",
   "language": "python",
   "name": "python2"
  },
  "language_info": {
   "codemirror_mode": {
    "name": "ipython",
    "version": 2
   },
   "file_extension": ".py",
   "mimetype": "text/x-python",
   "name": "python",
   "nbconvert_exporter": "python",
   "pygments_lexer": "ipython2",
   "version": "2.7.13"
  }
 },
 "nbformat": 4,
 "nbformat_minor": 2
}
