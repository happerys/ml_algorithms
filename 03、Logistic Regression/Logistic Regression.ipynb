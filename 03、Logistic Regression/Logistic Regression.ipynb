{
 "cells": [
  {
   "cell_type": "markdown",
   "metadata": {
    "collapsed": true
   },
   "source": [
    "## Logistic Regression\n",
    "### 1、Logistic Function\n",
    "**logit----Logistic Regression起源**\n",
    "> 一个事件的几率(odds)是指该事件发生与不发生的概率的比值。如果事件发生的概率是p，那么该事件的几率是$\\frac{p}{1-p}$，该事件的对数几率(log odds)或logit函数是$$logit(p)=ln\\frac{p}{1-p}$$\n",
    "\n",
    "> $logit(p)$使得它在$p=0$或$p=1$附近，$p$的微小变化对应$logit(p)$的较大变化。\n",
    "\n",
    "> 为了建立因变量$P$和自变量$X$之间的合理变化关系，假设存在线性关系$$P=X^T\\beta$$通过“$logit(p)$使得它在$p=0$或$p=1$附近，$p$的微小变化对应$logit(p)$的较大变化。”这一性质来反应$P$，可得：\n",
    "$$logit(p)=ln\\frac{p}{1-p}=X^T\\beta$$\n",
    "$$\\Rightarrow \\frac{p}{1-p}=e^{X^T\\beta}$$\n",
    "$$\\Rightarrow p=\\frac{e^{X^T\\beta}}{1+e^{X^T\\beta}}$$\n",
    "\n",
    "**Logistic Distribution**\n",
    "> 设$X$是连续随机变量，$X$服从Logistic分布是指$X$具有下列分布函数和密度函数：$$F(X)=P(X\\lt x)=\\frac{1}{1+e^{-(x-\\mu)/\\gamma}}$$\n",
    "$$f(x)=F^{'}(X)=\\frac{e^{-(x-\\mu)/\\gamma}}{\\gamma(1+e^{-(x-\\mu)/\\gamma }\\;)^2}$$\n",
    "\n",
    "> 式中，$\\mu$为位置参数，$\\gamma$为形状参数。\n",
    "\n",
    "> Logistic Distribution 的密度函数$f(x)$和分布函数$F(x)$的图像如图1.6所示。分布函数属于Logistic函数，其图形是一条S形曲线(gigmoid curve).该曲线以点$(\\mu, \\frac{1}{2})$为中心对称，即满足$$F(-x+\\mu)-\\frac{1}{2}=-F(x-\\mu)+\\frac{1}{2}$$\n",
    "\n",
    "> 曲线在中心附近增长速度较快，在两端增长速度较慢，现状参数$\\gamma$的值越小，曲线在中心附近增长得越快.\n",
    "\n",
    "<img src=\"./logistic.png\" width = \"400\" height = \"420\"/>\n",
    "\n",
    "### 2、构造预测函数\n",
    "**Logistic函数**\n",
    "> Logistic函数一般形式如下：\n",
    "$$g(z)=\\frac{1}{1+e^{-z}}$$\n",
    "> 对于线性边界的情况，边界形式如下：\n",
    "$$z=\\theta^Tx=\\theta_0x_0+\\theta_1x_1+\\cdots+\\theta_nx_n=\\sum^n_{i=0}\\theta_ix_i$$\n",
    "> 构造预测函数为：\n",
    "$$h_{\\theta}(x)=g(\\theta^Tx)=\\frac{1}{1+e^{-\\theta^Tx}}$$\n",
    "> 函数$h(x)$的值有特殊含义，它表示结果取1的概率，因此对于输入x分类结果为类别1和类别0的概率分别为：\n",
    "$$\\begin{align}\n",
    "& P(Y=1|x;0)=h_{\\theta}(x) \\\\\n",
    "& P(Y=0|x;0)=1-h_{\\theta}(x)\n",
    "\\end{align}$$\n",
    "**构造损失函数J（m个样本，每个样本具有n个特征）**\n",
    "> Cost函数和J函数如下，它们是基于最大似然估计推导得到的：\n",
    "$$Cost(h_{\\theta}(x),y)=\n",
    "\\left\\{\n",
    "\\begin{array}{ll}\n",
    "-log(h_{\\theta(x)})\\;if\\;y=1 \\\\\n",
    "-log(1-h_{\\theta(x)})\\;if\\;y=0\n",
    "\\end{array} \n",
    "\\right.\n",
    "$$\n",
    "$$J(\\theta)=\\frac{1}{m}\\sum^m_{i=1}Cost(h_{\\theta}(x_i),y_i)=-\\frac{1}{m}$$"
   ]
  },
  {
   "cell_type": "code",
   "execution_count": null,
   "metadata": {
    "collapsed": true
   },
   "outputs": [],
   "source": []
  },
  {
   "cell_type": "markdown",
   "metadata": {},
   "source": [
    "> Logistic回归与多重线性回归实际上有很多相同之处，最大的区别就在于它们的因变量不同，其他的基本都差不多。正是因为如此，这两种回归可以归于同一个家族，即广义线性模型（generalizedlinear model）。 \n",
    "这一家族中的模型形式基本上都差不多，不同的就是因变量不同。这一家族中的模型形式基本上都差不多，不同的就是因变量不同。\n",
    "\n",
    "> 如果是连续的，就是多重线性回归\n",
    "\n",
    "> 如果是二项分布，就是Logistic回归\n",
    "\n",
    "> 如果是Poisson分布，就是Poisson回归\n",
    "\n",
    "> 如果是负二项分布，就是负二项回归\n",
    "\n",
    "> 推导 ： http://blog.csdn.net/chibangyuxun/article/details/53148005\n",
    "\n",
    "> Logistic Regression 就是一个被logistic方程归一化后的线性回归，仅此而已。"
   ]
  },
  {
   "cell_type": "code",
   "execution_count": null,
   "metadata": {
    "collapsed": true
   },
   "outputs": [],
   "source": []
  }
 ],
 "metadata": {
  "kernelspec": {
   "display_name": "Python 3",
   "language": "python",
   "name": "python3"
  },
  "language_info": {
   "codemirror_mode": {
    "name": "ipython",
    "version": 3
   },
   "file_extension": ".py",
   "mimetype": "text/x-python",
   "name": "python",
   "nbconvert_exporter": "python",
   "pygments_lexer": "ipython3",
   "version": "3.6.3"
  }
 },
 "nbformat": 4,
 "nbformat_minor": 2
}
